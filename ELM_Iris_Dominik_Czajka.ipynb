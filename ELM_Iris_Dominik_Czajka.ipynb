{
  "nbformat": 4,
  "nbformat_minor": 0,
  "metadata": {
    "colab": {
      "provenance": [],
      "authorship_tag": "ABX9TyO6ETYBrEW8iP7sJAaA3Br8",
      "include_colab_link": true
    },
    "kernelspec": {
      "name": "python3",
      "display_name": "Python 3"
    },
    "language_info": {
      "name": "python"
    }
  },
  "cells": [
    {
      "cell_type": "markdown",
      "metadata": {
        "id": "view-in-github",
        "colab_type": "text"
      },
      "source": [
        "<a href=\"https://colab.research.google.com/github/Doms-debug/ELM-algorithm-on-Iris-dataset/blob/main/ELM_Iris_Dominik_Czajka.ipynb\" target=\"_parent\"><img src=\"https://colab.research.google.com/assets/colab-badge.svg\" alt=\"Open In Colab\"/></a>"
      ]
    },
    {
      "cell_type": "markdown",
      "source": [
        "# ELM algorithm implementation on Iris dataset\n",
        "++ evaluation of different activation functions\n"
      ],
      "metadata": {
        "id": "LLSX-aqs373_"
      }
    },
    {
      "cell_type": "code",
      "source": [
        "import numpy as np\n",
        "from sklearn.datasets import load_iris\n",
        "from sklearn.model_selection import train_test_split\n",
        "from sklearn.preprocessing import OneHotEncoder\n",
        "from sklearn.metrics import accuracy_score\n",
        "from tensorflow.keras.activations import mish\n",
        "\n",
        "def elm_iris(X_train, y_train, X_test, y_test, warstwy_ukryte, activation_function='tanh'):\n",
        "    # Zainicjuj losowo wagi wejściowe i bias\n",
        "    warstwy_wejsciowe = X_train.shape[1]\n",
        "    output_nodes = 4\n",
        "    input_weights = np.random.uniform(-1, 1, size=(warstwy_wejsciowe, warstwy_ukryte))\n",
        "    bias = np.random.uniform(-1, 1, size=(1, warstwy_ukryte))\n",
        "\n",
        "    # Oblicz wyjścia warstwy ukrytej przy użyciu funkcji aktywacji tanh, sigmoid lub mish\n",
        "    if activation_function == 'tanh':\n",
        "      hidden_layer_output = np.tanh(np.dot(X_train, input_weights) + bias)\n",
        "    elif  activation_function == 'sigmoid':\n",
        "        hidden_layer_output = 1 / (1 + np.exp(-(np.dot(X_train, input_weights) + bias)))\n",
        "    elif activation_function == 'mish':\n",
        "           hidden_layer_output = mish(np.dot(X_train, input_weights) + bias).numpy()\n",
        "\n",
        "    # Oblicz wagi wyjściowe przy użyciu np.linalg.pinv\n",
        "    output_weights = np.dot(np.linalg.pinv(hidden_layer_output), y_train)\n",
        "\n",
        "    # Przewidywanie etykiet klas przy użyciu wag wyjściowych i wyjść warstwy ukrytej\n",
        "    if activation_function == 'tanh':\n",
        "        hidden_layer_output_test = np.tanh(np.dot(X_test, input_weights) + bias)\n",
        "    elif activation_function == 'sigmoid':\n",
        "        hidden_layer_output_test = 1 / (1 + np.exp(-(np.dot(X_test, input_weights) + bias)))\n",
        "    elif activation_function == 'mish':\n",
        "      hidden_layer_output_test = 1 / (1 + np.exp(-(np.dot(X_test, input_weights) + bias)))\n",
        "\n",
        "    predictions = np.dot(hidden_layer_output_test, output_weights)\n",
        "\n",
        "    # Obliczanie dokładności\n",
        "    predicted_labels = np.argmax(predictions, axis=1)\n",
        "    true_labels = np.argmax(y_test, axis=1)\n",
        "    accuracy = accuracy_score(true_labels, predicted_labels)\n",
        "\n",
        "    return accuracy\n",
        "\n",
        "iris = load_iris()\n",
        "X, y = iris.data, iris.target\n",
        "\n",
        "# One-Hot Encoding\n",
        "encoder = OneHotEncoder(sparse_output=False)\n",
        "y = encoder.fit_transform(y.reshape(-1, 1))\n",
        "\n",
        "X_train, X_test, y_train, y_test = train_test_split(X, y, test_size=0.2, random_state=42)\n",
        "\n",
        "warstwy_ukryte = 1000\n",
        "\n",
        "accuracy = elm_iris(X_train, y_train, X_test, y_test, warstwy_ukryte)\n",
        "print(f\"Dokładność modelu ELM dla zbioru Iris: {accuracy}\")\n",
        "\n",
        "\n",
        "for warstwy_ukryte in [50, 1000, 200, 500]:\n",
        "    accuracy = elm_iris(X_train, y_train, X_test, y_test, warstwy_ukryte)\n",
        "    print(f\"Dokładność dla {warstwy_ukryte} ukrytych węzłów: {accuracy}\")\n",
        "\n",
        "# 2. Różne funkcje aktywacji\n",
        "for activation_function in ['tanh', 'sigmoid', 'mish']:\n",
        "    accuracy = elm_iris(X_train, y_train, X_test, y_test, warstwy_ukryte=100, activation_function=activation_function)\n",
        "    print(f\"Dokładność dla funkcji aktywacji {activation_function}: {accuracy}\")"
      ],
      "metadata": {
        "colab": {
          "base_uri": "https://localhost:8080/"
        },
        "id": "-4Ni_UxQq5Ez",
        "outputId": "230a441d-bd82-4db1-a6dd-99b5799bc192"
      },
      "execution_count": 10,
      "outputs": [
        {
          "output_type": "stream",
          "name": "stdout",
          "text": [
            "Dokładność modelu ELM dla zbioru Iris: 0.7333333333333333\n",
            "Dokładność dla 50 ukrytych węzłów: 0.9666666666666667\n",
            "Dokładność dla 1000 ukrytych węzłów: 0.9\n",
            "Dokładność dla 200 ukrytych węzłów: 0.3\n",
            "Dokładność dla 500 ukrytych węzłów: 0.7666666666666667\n",
            "Dokładność dla funkcji aktywacji tanh: 0.6666666666666666\n",
            "Dokładność dla funkcji aktywacji sigmoid: 0.6666666666666666\n",
            "Dokładność dla funkcji aktywacji mish: 0.36666666666666664\n"
          ]
        }
      ]
    }
  ]
}